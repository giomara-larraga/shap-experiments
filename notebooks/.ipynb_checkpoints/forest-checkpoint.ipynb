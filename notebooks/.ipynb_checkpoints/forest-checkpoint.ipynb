{
 "cells": [
  {
   "cell_type": "markdown",
   "id": "a676a0da-d6af-4b2c-9aef-7133adab2975",
   "metadata": {},
   "source": [
    "# Forest management problem"
   ]
  },
  {
   "cell_type": "code",
   "execution_count": 63,
   "id": "fe6cab48-2e70-4e6d-8b22-2388413e1939",
   "metadata": {},
   "outputs": [
    {
     "data": {
      "text/html": [
       "<style>\n",
       ".dataframe th {\n",
       "    font-size: 24px;\n",
       "}\n",
       ".dataframe td {\n",
       "    font-size: 22px;\n",
       "}\n",
       "</style>\n"
      ],
      "text/plain": [
       "<IPython.core.display.HTML object>"
      ]
     },
     "metadata": {},
     "output_type": "display_data"
    }
   ],
   "source": [
    "%%html\n",
    "<style>\n",
    ".dataframe th {\n",
    "    font-size: 24px;\n",
    "}\n",
    ".dataframe td {\n",
    "    font-size: 22px;\n",
    "}\n",
    "</style>"
   ]
  },
  {
   "cell_type": "code",
   "execution_count": 64,
   "id": "af3099c0-1d36-43db-ad72-d31f38c2f664",
   "metadata": {},
   "outputs": [
    {
     "name": "stderr",
     "output_type": "stream",
     "text": [
      "Using 200 background data samples could cause slower run times. Consider using shap.sample(data, K) or shap.kmeans(data, K) to summarize the background as K samples.\n"
     ]
    }
   ],
   "source": [
    "import numpy as np\n",
    "import pandas as pd\n",
    "import shap\n",
    "import matplotlib.pyplot as plt\n",
    "\n",
    "from desdeo_problem.problem import DiscreteDataProblem\n",
    "from desdeo_tools.scalarization import SimpleASF, DiscreteScalarizer, StomASF, PointMethodASF\n",
    "from desdeo_tools.solver import DiscreteMinimizer\n",
    "from shapley_values.explanations import *\n",
    "from shapley_values.utilities import *\n",
    "from IPython.core.display import display, HTML\n",
    "\n",
    "# parameters\n",
    "## the ASF used\n",
    "ASF = PointMethodASF\n",
    "\n",
    "# Load and setup problem (all objectives are defined to be maximized, so we multiply the whole dataframe by -1)\n",
    "df = -1*pd.read_csv(\"../data/forest.csv\")\n",
    "pareto_front = df.to_numpy()\n",
    "\n",
    "# compute the ideal and nadir\n",
    "ideal = np.min(pareto_front[:, 0:3], axis=0)\n",
    "nadir = np.max(pareto_front[:, 0:3], axis=0)\n",
    "\n",
    "objective_names = [\"Income\", \"Carbon\", \"Habitat index\"]\n",
    "n_objectives = 3\n",
    "\n",
    "# we do not know the original decision variables, so we use a single 'dummy' variable just to make sure DiscreteDataProblem works correctly with the data\n",
    "problem = DiscreteDataProblem(df, \"dummy\", objective_names, nadir, ideal)\n",
    "\n",
    "asf = ASF(nadir, ideal)\n",
    "\n",
    "# sample the Pareto front for missing data to be used while computing SHAP values\n",
    "missing_data = shap.sample(pareto_front[:, 0:n_objectives], nsamples=200)\n",
    "\n",
    "# generate the method to be used, or the black-box\n",
    "bb = generate_black_box(problem, asf)\n",
    "\n",
    "# define the explainer that computed SHAP values (use kernel SHAP)\n",
    "explainer = shap.KernelExplainer(bb, missing_data)\n",
    "\n",
    "data_multipliers = np.array([1e-7, 1e-9, 1e-4])\n",
    "def scale_forest_data(data, multipliers=data_multipliers):\n",
    "    return multipliers * data\n",
    "\n",
    "# CHSI: combined suitable habitat index\n",
    "objective_names_multi = [\"Income (10^7)\", \"Stored CO2 (10^9)\", \"CSHI (10^4)\"]\n",
    "\n",
    "def plot(result, objective_names=objective_names_multi, ymin=0, ymax=1):\n",
    "    fig = plt.figure()\n",
    "    ax = fig.add_axes([0,0,1,1])\n",
    "    ax.set_ylim(ymin, ymax)\n",
    "    ax.bar(objective_names, np.squeeze(result)) \n",
    "    plt.grid()\n",
    "    plt.show()\n",
    "    \n",
    "def to_dataframe(points, indices):\n",
    "    return pd.DataFrame({objective_names_multi[i]: [-scale_forest_data(points[j])[i] for j in range(len(points))] for i in range(3)}, index=indices).round(3)"
   ]
  },
  {
   "cell_type": "markdown",
   "id": "6b48b6a1-1e8d-456a-b7fe-c8ef26422b0f",
   "metadata": {},
   "source": [
    "## Ideal and nadir"
   ]
  },
  {
   "cell_type": "code",
   "execution_count": 65,
   "id": "faaa009f-8e20-498d-adb6-7a23b05883a8",
   "metadata": {},
   "outputs": [
    {
     "data": {
      "text/html": [
       "<div>\n",
       "<style scoped>\n",
       "    .dataframe tbody tr th:only-of-type {\n",
       "        vertical-align: middle;\n",
       "    }\n",
       "\n",
       "    .dataframe tbody tr th {\n",
       "        vertical-align: top;\n",
       "    }\n",
       "\n",
       "    .dataframe thead th {\n",
       "        text-align: right;\n",
       "    }\n",
       "</style>\n",
       "<table border=\"1\" class=\"dataframe\">\n",
       "  <thead>\n",
       "    <tr style=\"text-align: right;\">\n",
       "      <th></th>\n",
       "      <th>Income (10^7)</th>\n",
       "      <th>Stored CO2 (10^9)</th>\n",
       "      <th>CSHI (10^4)</th>\n",
       "    </tr>\n",
       "  </thead>\n",
       "  <tbody>\n",
       "    <tr>\n",
       "      <th>Ideal</th>\n",
       "      <td>6.285</td>\n",
       "      <td>8.269</td>\n",
       "      <td>3.244</td>\n",
       "    </tr>\n",
       "    <tr>\n",
       "      <th>Nadir</th>\n",
       "      <td>1.877</td>\n",
       "      <td>6.733</td>\n",
       "      <td>2.139</td>\n",
       "    </tr>\n",
       "  </tbody>\n",
       "</table>\n",
       "</div>"
      ],
      "text/plain": [
       "       Income (10^7)  Stored CO2 (10^9)  CSHI (10^4)\n",
       "Ideal          6.285              8.269        3.244\n",
       "Nadir          1.877              6.733        2.139"
      ]
     },
     "execution_count": 65,
     "metadata": {},
     "output_type": "execute_result"
    }
   ],
   "source": [
    "df_ideal_and_nadir = to_dataframe([ideal, nadir], [\"Ideal\", \"Nadir\"])\n",
    "previous_solution = nadir\n",
    "\n",
    "df_ideal_and_nadir"
   ]
  },
  {
   "cell_type": "markdown",
   "id": "d80f5cb4-a5ad-42e1-9992-4d47040c5216",
   "metadata": {},
   "source": [
    "## Setting a reference point"
   ]
  },
  {
   "cell_type": "code",
   "execution_count": 66,
   "id": "33ff2b78-d373-4339-9662-c1e1338b546f",
   "metadata": {},
   "outputs": [
    {
     "data": {
      "text/html": [
       "<div>\n",
       "<style scoped>\n",
       "    .dataframe tbody tr th:only-of-type {\n",
       "        vertical-align: middle;\n",
       "    }\n",
       "\n",
       "    .dataframe tbody tr th {\n",
       "        vertical-align: top;\n",
       "    }\n",
       "\n",
       "    .dataframe thead th {\n",
       "        text-align: right;\n",
       "    }\n",
       "</style>\n",
       "<table border=\"1\" class=\"dataframe\">\n",
       "  <thead>\n",
       "    <tr style=\"text-align: right;\">\n",
       "      <th></th>\n",
       "      <th>Income (10^7)</th>\n",
       "      <th>Stored CO2 (10^9)</th>\n",
       "      <th>CSHI (10^4)</th>\n",
       "    </tr>\n",
       "  </thead>\n",
       "  <tbody>\n",
       "    <tr>\n",
       "      <th>Ideal</th>\n",
       "      <td>6.285</td>\n",
       "      <td>8.269</td>\n",
       "      <td>3.244</td>\n",
       "    </tr>\n",
       "    <tr>\n",
       "      <th>Reference point</th>\n",
       "      <td>3.500</td>\n",
       "      <td>7.850</td>\n",
       "      <td>3.000</td>\n",
       "    </tr>\n",
       "    <tr>\n",
       "      <th>Nadir</th>\n",
       "      <td>1.877</td>\n",
       "      <td>6.733</td>\n",
       "      <td>2.139</td>\n",
       "    </tr>\n",
       "  </tbody>\n",
       "</table>\n",
       "</div>"
      ],
      "text/plain": [
       "                 Income (10^7)  Stored CO2 (10^9)  CSHI (10^4)\n",
       "Ideal                    6.285              8.269        3.244\n",
       "Reference point          3.500              7.850        3.000\n",
       "Nadir                    1.877              6.733        2.139"
      ]
     },
     "execution_count": 66,
     "metadata": {},
     "output_type": "execute_result"
    }
   ],
   "source": [
    "reference_point = [3.5, 7.85, 3.0]\n",
    "reference_point = -np.array(reference_point) * 1/data_multipliers\n",
    "\n",
    "to_dataframe([ideal, reference_point, previous_solution], indices=[\"Ideal\", \"Reference point\", \"Nadir\"]).round(3)"
   ]
  },
  {
   "cell_type": "markdown",
   "id": "e9e85391-cc42-4d0f-85f9-b837b7d90234",
   "metadata": {},
   "source": [
    "## Computing the initial solution based on the reference point"
   ]
  },
  {
   "cell_type": "code",
   "execution_count": 67,
   "id": "d4c1069e-4843-4f5f-bdfd-f76b3e1d3fb1",
   "metadata": {},
   "outputs": [
    {
     "data": {
      "text/html": [
       "<table border=\"1\" class=\"dataframe\">\n",
       "  <thead>\n",
       "    <tr style=\"text-align: right;\">\n",
       "      <th></th>\n",
       "      <th>Income (10^7)</th>\n",
       "      <th>Stored CO2 (10^9)</th>\n",
       "      <th>CSHI (10^4)</th>\n",
       "    </tr>\n",
       "  </thead>\n",
       "  <tbody>\n",
       "    <tr>\n",
       "      <th>Ideal</th>\n",
       "      <td>6.285</td>\n",
       "      <td>8.269</td>\n",
       "      <td>3.244</td>\n",
       "    </tr>\n",
       "    <tr>\n",
       "      <th>Reference point</th>\n",
       "      <td>3.500</td>\n",
       "      <td>7.850</td>\n",
       "      <td>3.000</td>\n",
       "    </tr>\n",
       "    <tr>\n",
       "      <th>New solution</th>\n",
       "      <td>3.720</td>\n",
       "      <td>7.983</td>\n",
       "      <td>3.057</td>\n",
       "    </tr>\n",
       "    <tr>\n",
       "      <th>Nadir</th>\n",
       "      <td>1.877</td>\n",
       "      <td>6.733</td>\n",
       "      <td>2.139</td>\n",
       "    </tr>\n",
       "  </tbody>\n",
       "</table>"
      ],
      "text/plain": [
       "<IPython.core.display.HTML object>"
      ]
     },
     "metadata": {},
     "output_type": "display_data"
    }
   ],
   "source": [
    "new_solution = bb(np.atleast_2d(reference_point)).squeeze()\n",
    "shap_values = np.array(explainer.shap_values(reference_point))\n",
    "\n",
    "df = to_dataframe([ideal, reference_point, new_solution, nadir], indices=[\"Ideal\", \"Reference point\", \"New solution\", \"Nadir\"])\n",
    "display(HTML(df.to_html()))"
   ]
  },
  {
   "cell_type": "markdown",
   "id": "eb9a5c98-aac0-4f1a-82b6-189abc63a69d",
   "metadata": {},
   "source": [
    "## Specification of the objective to be improved"
   ]
  },
  {
   "cell_type": "code",
   "execution_count": 68,
   "id": "c1428b30-6438-451a-95c5-4201c80ec657",
   "metadata": {},
   "outputs": [
    {
     "data": {
      "text/html": [
       "<p style=font-size:20px>Suggestion: Try improving the component Habitat index and impairing the component Carbon.</p>"
      ],
      "text/plain": [
       "<IPython.core.display.HTML object>"
      ]
     },
     "metadata": {},
     "output_type": "display_data"
    },
    {
     "data": {
      "text/html": [
       "<p style=font-size:20px>Explanation: Each objective value in the solution had a bettern value when compared to the reference point. The reference point was pessimistic. The component Carbon in the refence point had the least improving effect on the objective Habitat index in the solution.</p>"
      ],
      "text/plain": [
       "<IPython.core.display.HTML object>"
      ]
     },
     "metadata": {},
     "output_type": "display_data"
    },
    {
     "data": {
      "text/html": [
       "<table border=\"1\" class=\"dataframe\">\n",
       "  <thead>\n",
       "    <tr style=\"text-align: right;\">\n",
       "      <th></th>\n",
       "      <th>Income (10^7)</th>\n",
       "      <th>Stored CO2 (10^9)</th>\n",
       "      <th>CSHI (10^4)</th>\n",
       "    </tr>\n",
       "  </thead>\n",
       "  <tbody>\n",
       "    <tr>\n",
       "      <th>Ideal</th>\n",
       "      <td>6.285</td>\n",
       "      <td>8.269</td>\n",
       "      <td>3.244</td>\n",
       "    </tr>\n",
       "    <tr>\n",
       "      <th>Reference point</th>\n",
       "      <td>3.500</td>\n",
       "      <td>7.850</td>\n",
       "      <td>3.000</td>\n",
       "    </tr>\n",
       "    <tr>\n",
       "      <th>Nadir</th>\n",
       "      <td>1.877</td>\n",
       "      <td>6.733</td>\n",
       "      <td>2.139</td>\n",
       "    </tr>\n",
       "  </tbody>\n",
       "</table>"
      ],
      "text/plain": [
       "<IPython.core.display.HTML object>"
      ]
     },
     "metadata": {},
     "output_type": "display_data"
    }
   ],
   "source": [
    "to_improve = 2\n",
    "output_str, _, _, _ = how_to_improve_objective_i(shap_values, to_improve, reference_point, new_solution, objective_names=objective_names)\n",
    "suggestion, explanation = split_suggestion_explanation(output_str)\n",
    "\n",
    "df = to_dataframe([ideal, reference_point, nadir], [\"Ideal\", \"Reference point\", \"Nadir\"])\n",
    "\n",
    "display(HTML(f\"<p style=font-size:20px>{suggestion}</p>\"))\n",
    "display(HTML(f\"<p style=font-size:20px>{explanation}</p>\"))\n",
    "\n",
    "display(HTML(df.to_html()))\n"
   ]
  },
  {
   "cell_type": "markdown",
   "id": "7b2372a4-6ef8-4b81-8628-fc68292945c4",
   "metadata": {},
   "source": [
    "## Specifying a new reference point and computing a new solution"
   ]
  },
  {
   "cell_type": "code",
   "execution_count": 69,
   "id": "8a06d5b9-159f-4790-889e-96a5d4aae69b",
   "metadata": {},
   "outputs": [
    {
     "data": {
      "text/html": [
       "<table border=\"1\" class=\"dataframe\">\n",
       "  <thead>\n",
       "    <tr style=\"text-align: right;\">\n",
       "      <th></th>\n",
       "      <th>Income (10^7)</th>\n",
       "      <th>Stored CO2 (10^9)</th>\n",
       "      <th>CSHI (10^4)</th>\n",
       "    </tr>\n",
       "  </thead>\n",
       "  <tbody>\n",
       "    <tr>\n",
       "      <th>Ideal</th>\n",
       "      <td>6.285</td>\n",
       "      <td>8.269</td>\n",
       "      <td>3.244</td>\n",
       "    </tr>\n",
       "    <tr>\n",
       "      <th>Previous solution</th>\n",
       "      <td>3.720</td>\n",
       "      <td>7.983</td>\n",
       "      <td>3.057</td>\n",
       "    </tr>\n",
       "    <tr>\n",
       "      <th>New solution</th>\n",
       "      <td>3.579</td>\n",
       "      <td>7.810</td>\n",
       "      <td>3.136</td>\n",
       "    </tr>\n",
       "    <tr>\n",
       "      <th>Reference point</th>\n",
       "      <td>3.500</td>\n",
       "      <td>7.750</td>\n",
       "      <td>3.100</td>\n",
       "    </tr>\n",
       "    <tr>\n",
       "      <th>Nadir</th>\n",
       "      <td>1.877</td>\n",
       "      <td>6.733</td>\n",
       "      <td>2.139</td>\n",
       "    </tr>\n",
       "  </tbody>\n",
       "</table>"
      ],
      "text/plain": [
       "<IPython.core.display.HTML object>"
      ]
     },
     "metadata": {},
     "output_type": "display_data"
    }
   ],
   "source": [
    "previous_solution = new_solution\n",
    "\n",
    "reference_point = [3.5, 7.75, 3.1]\n",
    "reference_point = -np.array(reference_point) * 1/data_multipliers\n",
    "\n",
    "new_solution = bb(np.atleast_2d(reference_point)).squeeze()\n",
    "shap_values = np.array(explainer.shap_values(reference_point))\n",
    "\n",
    "df = to_dataframe([ideal, previous_solution, new_solution, reference_point, nadir], indices=[\"Ideal\", \"Previous solution\", \"New solution\", \"Reference point\", \"Nadir\"])\n",
    "display(HTML(df.to_html()))"
   ]
  },
  {
   "cell_type": "code",
   "execution_count": null,
   "id": "d45cee55-d5ba-46b1-bedc-dd3f21111b1d",
   "metadata": {
    "jp-MarkdownHeadingCollapsed": true,
    "tags": []
   },
   "outputs": [],
   "source": [
    "to_improve = 1\n",
    "output_str, _, _, _ = how_to_improve_objective_i(shap_values, to_improve, reference_point, new_solution, objective_names=objective_names)\n",
    "suggestion, explanation = split_suggestion_explanation(output_str)\n",
    "\n",
    "df = to_dataframe([ideal, reference_point, nadir], [\"Ideal\", \"Reference point\", \"Nadir\"])\n",
    "\n",
    "display(HTML(f\"<p style=font-size:20px>{suggestion}</p>\"))\n",
    "display(HTML(f\"<p style=font-size:20px>{explanation}</p>\"))\n",
    "\n",
    "display(HTML(df.to_html()))"
   ]
  },
  {
   "cell_type": "code",
   "execution_count": null,
   "id": "63747594-f258-4c6b-9095-3698d002f624",
   "metadata": {},
   "outputs": [],
   "source": [
    "previous_solution = new_solution\n",
    "\n",
    "reference_point = [4.4, 7.705, 2.8]\n",
    "reference_point = -np.array(reference_point) * 1/data_multipliers\n",
    "\n",
    "new_solution = bb(np.atleast_2d(reference_point)).squeeze()\n",
    "shap_values = np.array(explainer.shap_values(reference_point))\n",
    "\n",
    "df = to_dataframe([ideal, previous_solution, new_solution, reference_point, nadir], indices=[\"Ideal\", \"Previous solution\", \"New solution\", \"Reference point\", \"Nadir\"])\n",
    "display(HTML(df.to_html()))"
   ]
  },
  {
   "cell_type": "code",
   "execution_count": null,
   "id": "2ec550c3-2684-4401-bfcc-dfc473a3d9b5",
   "metadata": {},
   "outputs": [],
   "source": [
    "to_improve = 0\n",
    "output_str, _, _, _ = how_to_improve_objective_i(shap_values, to_improve, reference_point, new_solution, objective_names=objective_names)\n",
    "suggestion, explanation = split_suggestion_explanation(output_str)\n",
    "\n",
    "df = to_dataframe([ideal, reference_point, nadir], [\"Ideal\", \"Reference point\", \"Nadir\"])\n",
    "\n",
    "display(HTML(f\"<p style=font-size:20px>{suggestion}</p>\"))\n",
    "display(HTML(f\"<p style=font-size:20px>{explanation}</p>\"))\n",
    "\n",
    "display(HTML(df.to_html()))"
   ]
  },
  {
   "cell_type": "code",
   "execution_count": null,
   "id": "704f4b58-d92b-47e6-b152-eedbac09a249",
   "metadata": {},
   "outputs": [],
   "source": [
    "previous_solution = new_solution\n",
    "\n",
    "reference_point = [3.0, 6.8, 2.3]\n",
    "reference_point = -np.array(reference_point) * 1/data_multipliers\n",
    "\n",
    "new_solution = bb(np.atleast_2d(reference_point)).squeeze()\n",
    "shap_values = np.array(explainer.shap_values(reference_point))\n",
    "\n",
    "df = to_dataframe([ideal, previous_solution, new_solution, reference_point, nadir], indices=[\"Ideal\", \"Previous solution\", \"New solution\", \"Reference point\", \"Nadir\"])\n",
    "display(HTML(df.to_html()))"
   ]
  },
  {
   "cell_type": "code",
   "execution_count": null,
   "id": "36c11d9c-da43-495b-a570-1422f3c9fe35",
   "metadata": {},
   "outputs": [],
   "source": [
    "to_improve = 0\n",
    "output_str, _, _, _ = how_to_improve_objective_i(shap_values, to_improve, reference_point, new_solution, objective_names=objective_names)\n",
    "suggestion, explanation = split_suggestion_explanation(output_str)\n",
    "\n",
    "df = to_dataframe([ideal, reference_point, nadir], [\"Ideal\", \"Reference point\", \"Nadir\"])\n",
    "\n",
    "display(HTML(f\"<p style=font-size:20px>{suggestion}</p>\"))\n",
    "display(HTML(f\"<p style=font-size:20px>{explanation}</p>\"))\n",
    "\n",
    "display(HTML(df.to_html()))"
   ]
  },
  {
   "cell_type": "code",
   "execution_count": null,
   "id": "158ae706-5728-43a4-a92a-d81d1135d791",
   "metadata": {},
   "outputs": [],
   "source": [
    "previous_solution = new_solution\n",
    "\n",
    "reference_point = [3.0, 6.8, 2.3]\n",
    "reference_point = -np.array(reference_point) * 1/data_multipliers\n",
    "\n",
    "new_solution = bb(np.atleast_2d(reference_point)).squeeze()\n",
    "shap_values = np.array(explainer.shap_values(reference_point))\n",
    "\n",
    "df = to_dataframe([ideal, previous_solution, new_solution, reference_point, nadir], indices=[\"Ideal\", \"Previous solution\", \"New solution\", \"Reference point\", \"Nadir\"])\n",
    "display(HTML(df.to_html()))"
   ]
  },
  {
   "cell_type": "code",
   "execution_count": null,
   "id": "a25273de-e2a1-4880-94e8-22c336d61076",
   "metadata": {},
   "outputs": [],
   "source": [
    "to_improve = 0\n",
    "output_str, _, _, _ = how_to_improve_objective_i(shap_values, to_improve, reference_point, new_solution, objective_names=objective_names)\n",
    "suggestion, explanation = split_suggestion_explanation(output_str)\n",
    "\n",
    "df = to_dataframe([ideal, reference_point, nadir], [\"Ideal\", \"Reference point\", \"Nadir\"])\n",
    "\n",
    "display(HTML(f\"<p style=font-size:20px>{suggestion}</p>\"))\n",
    "display(HTML(f\"<p style=font-size:20px>{explanation}</p>\"))\n",
    "\n",
    "display(HTML(df.to_html()))"
   ]
  },
  {
   "cell_type": "code",
   "execution_count": null,
   "id": "a3a27d14-f176-45a5-bc30-a516ceb254d2",
   "metadata": {},
   "outputs": [],
   "source": [
    "previous_solution = new_solution\n",
    "\n",
    "reference_point = [3.0, 6.8, 2.3]\n",
    "reference_point = -np.array(reference_point) * 1/data_multipliers\n",
    "\n",
    "new_solution = bb(np.atleast_2d(reference_point)).squeeze()\n",
    "shap_values = np.array(explainer.shap_values(reference_point))\n",
    "\n",
    "df = to_dataframe([ideal, previous_solution, new_solution, reference_point, nadir], indices=[\"Ideal\", \"Previous solution\", \"New solution\", \"Reference point\", \"Nadir\"])\n",
    "display(HTML(df.to_html()))"
   ]
  },
  {
   "cell_type": "code",
   "execution_count": null,
   "id": "7fb84eec-d00f-43ea-a9a0-0d344ffa380f",
   "metadata": {},
   "outputs": [],
   "source": [
    "to_improve = 0\n",
    "output_str, _, _, _ = how_to_improve_objective_i(shap_values, to_improve, reference_point, new_solution, objective_names=objective_names)\n",
    "suggestion, explanation = split_suggestion_explanation(output_str)\n",
    "\n",
    "df = to_dataframe([ideal, reference_point, nadir], [\"Ideal\", \"Reference point\", \"Nadir\"])\n",
    "\n",
    "display(HTML(f\"<p style=font-size:20px>{suggestion}</p>\"))\n",
    "display(HTML(f\"<p style=font-size:20px>{explanation}</p>\"))\n",
    "\n",
    "display(HTML(df.to_html()))"
   ]
  },
  {
   "cell_type": "code",
   "execution_count": null,
   "id": "d43848ba-a09d-4da0-8589-bcb4f66d0c05",
   "metadata": {},
   "outputs": [],
   "source": [
    "previous_solution = new_solution\n",
    "\n",
    "reference_point = [3.0, 6.8, 2.3]\n",
    "reference_point = -np.array(reference_point) * 1/data_multipliers\n",
    "\n",
    "new_solution = bb(np.atleast_2d(reference_point)).squeeze()\n",
    "shap_values = np.array(explainer.shap_values(reference_point))\n",
    "\n",
    "df = to_dataframe([ideal, previous_solution, new_solution, reference_point, nadir], indices=[\"Ideal\", \"Previous solution\", \"New solution\", \"Reference point\", \"Nadir\"])\n",
    "display(HTML(df.to_html()))"
   ]
  },
  {
   "cell_type": "code",
   "execution_count": null,
   "id": "d8b504f3-5996-48dc-91a1-697077d35c02",
   "metadata": {},
   "outputs": [],
   "source": [
    "to_improve = 0\n",
    "output_str, _, _, _ = how_to_improve_objective_i(shap_values, to_improve, reference_point, new_solution, objective_names=objective_names)\n",
    "suggestion, explanation = split_suggestion_explanation(output_str)\n",
    "\n",
    "df = to_dataframe([ideal, reference_point, nadir], [\"Ideal\", \"Reference point\", \"Nadir\"])\n",
    "\n",
    "display(HTML(f\"<p style=font-size:20px>{suggestion}</p>\"))\n",
    "display(HTML(f\"<p style=font-size:20px>{explanation}</p>\"))\n",
    "\n",
    "display(HTML(df.to_html()))"
   ]
  },
  {
   "cell_type": "code",
   "execution_count": null,
   "id": "c52902bc-45c7-4ea0-bb71-e1587ec61c08",
   "metadata": {},
   "outputs": [],
   "source": [
    "previous_solution = new_solution\n",
    "\n",
    "reference_point = [3.0, 6.8, 2.3]\n",
    "reference_point = -np.array(reference_point) * 1/data_multipliers\n",
    "\n",
    "new_solution = bb(np.atleast_2d(reference_point)).squeeze()\n",
    "shap_values = np.array(explainer.shap_values(reference_point))\n",
    "\n",
    "df = to_dataframe([ideal, previous_solution, new_solution, reference_point, nadir], indices=[\"Ideal\", \"Previous solution\", \"New solution\", \"Reference point\", \"Nadir\"])\n",
    "display(HTML(df.to_html()))"
   ]
  },
  {
   "cell_type": "code",
   "execution_count": null,
   "id": "a59f7f06-35ff-4058-a5a7-63fef01be50e",
   "metadata": {},
   "outputs": [],
   "source": [
    "to_improve = 0\n",
    "output_str, _, _, _ = how_to_improve_objective_i(shap_values, to_improve, reference_point, new_solution, objective_names=objective_names)\n",
    "suggestion, explanation = split_suggestion_explanation(output_str)\n",
    "\n",
    "df = to_dataframe([ideal, reference_point, nadir], [\"Ideal\", \"Reference point\", \"Nadir\"])\n",
    "\n",
    "display(HTML(f\"<p style=font-size:20px>{suggestion}</p>\"))\n",
    "display(HTML(f\"<p style=font-size:20px>{explanation}</p>\"))\n",
    "\n",
    "display(HTML(df.to_html()))"
   ]
  },
  {
   "cell_type": "code",
   "execution_count": null,
   "id": "75c1ff59-ae9d-4522-b433-fae6222d4218",
   "metadata": {},
   "outputs": [],
   "source": [
    "previous_solution = new_solution\n",
    "\n",
    "reference_point = [3.0, 6.8, 2.3]\n",
    "reference_point = -np.array(reference_point) * 1/data_multipliers\n",
    "\n",
    "new_solution = bb(np.atleast_2d(reference_point)).squeeze()\n",
    "shap_values = np.array(explainer.shap_values(reference_point))\n",
    "\n",
    "df = to_dataframe([ideal, previous_solution, new_solution, reference_point, nadir], indices=[\"Ideal\", \"Previous solution\", \"New solution\", \"Reference point\", \"Nadir\"])\n",
    "display(HTML(df.to_html()))"
   ]
  },
  {
   "cell_type": "code",
   "execution_count": null,
   "id": "50fa20a1-a6cc-41e3-86e7-09e412e914ab",
   "metadata": {},
   "outputs": [],
   "source": [
    "to_improve = 0\n",
    "output_str, _, _, _ = how_to_improve_objective_i(shap_values, to_improve, reference_point, new_solution, objective_names=objective_names)\n",
    "suggestion, explanation = split_suggestion_explanation(output_str)\n",
    "\n",
    "df = to_dataframe([ideal, reference_point, nadir], [\"Ideal\", \"Reference point\", \"Nadir\"])\n",
    "\n",
    "display(HTML(f\"<p style=font-size:20px>{suggestion}</p>\"))\n",
    "display(HTML(f\"<p style=font-size:20px>{explanation}</p>\"))\n",
    "\n",
    "display(HTML(df.to_html()))"
   ]
  },
  {
   "cell_type": "code",
   "execution_count": null,
   "id": "3f2c999e-4daa-4da8-9e77-58ba70dcdbb2",
   "metadata": {},
   "outputs": [],
   "source": [
    "previous_solution = new_solution\n",
    "\n",
    "reference_point = [3.0, 6.8, 2.3]\n",
    "reference_point = -np.array(reference_point) * 1/data_multipliers\n",
    "\n",
    "new_solution = bb(np.atleast_2d(reference_point)).squeeze()\n",
    "shap_values = np.array(explainer.shap_values(reference_point))\n",
    "\n",
    "df = to_dataframe([ideal, previous_solution, new_solution, reference_point, nadir], indices=[\"Ideal\", \"Previous solution\", \"New solution\", \"Reference point\", \"Nadir\"])\n",
    "display(HTML(df.to_html()))"
   ]
  },
  {
   "cell_type": "code",
   "execution_count": null,
   "id": "35c58ef7-f6b9-4f9f-9916-476745b7f01d",
   "metadata": {},
   "outputs": [],
   "source": [
    "to_improve = 0\n",
    "output_str, _, _, _ = how_to_improve_objective_i(shap_values, to_improve, reference_point, new_solution, objective_names=objective_names)\n",
    "suggestion, explanation = split_suggestion_explanation(output_str)\n",
    "\n",
    "df = to_dataframe([ideal, reference_point, nadir], [\"Ideal\", \"Reference point\", \"Nadir\"])\n",
    "\n",
    "display(HTML(f\"<p style=font-size:20px>{suggestion}</p>\"))\n",
    "display(HTML(f\"<p style=font-size:20px>{explanation}</p>\"))\n",
    "\n",
    "display(HTML(df.to_html()))"
   ]
  },
  {
   "cell_type": "code",
   "execution_count": null,
   "id": "7b3b5a7c-ade5-4e80-8ea1-3b51e0e6c34d",
   "metadata": {},
   "outputs": [],
   "source": [
    "previous_solution = new_solution\n",
    "\n",
    "reference_point = [3.0, 6.8, 2.3]\n",
    "reference_point = -np.array(reference_point) * 1/data_multipliers\n",
    "\n",
    "new_solution = bb(np.atleast_2d(reference_point)).squeeze()\n",
    "shap_values = np.array(explainer.shap_values(reference_point))\n",
    "\n",
    "df = to_dataframe([ideal, previous_solution, new_solution, reference_point, nadir], indices=[\"Ideal\", \"Previous solution\", \"New solution\", \"Reference point\", \"Nadir\"])\n",
    "display(HTML(df.to_html()))"
   ]
  },
  {
   "cell_type": "code",
   "execution_count": null,
   "id": "ec14ba0d-7baa-465b-99d5-a1a5867c13e0",
   "metadata": {},
   "outputs": [],
   "source": [
    "to_improve = 0\n",
    "output_str, _, _, _ = how_to_improve_objective_i(shap_values, to_improve, reference_point, new_solution, objective_names=objective_names)\n",
    "suggestion, explanation = split_suggestion_explanation(output_str)\n",
    "\n",
    "df = to_dataframe([ideal, reference_point, nadir], [\"Ideal\", \"Reference point\", \"Nadir\"])\n",
    "\n",
    "display(HTML(f\"<p style=font-size:20px>{suggestion}</p>\"))\n",
    "display(HTML(f\"<p style=font-size:20px>{explanation}</p>\"))\n",
    "\n",
    "display(HTML(df.to_html()))"
   ]
  },
  {
   "cell_type": "code",
   "execution_count": null,
   "id": "7f4006eb-fe98-42f6-9110-fbfc4d011af5",
   "metadata": {},
   "outputs": [],
   "source": [
    "previous_solution = new_solution\n",
    "\n",
    "reference_point = [3.0, 6.8, 2.3]\n",
    "reference_point = -np.array(reference_point) * 1/data_multipliers\n",
    "\n",
    "new_solution = bb(np.atleast_2d(reference_point)).squeeze()\n",
    "shap_values = np.array(explainer.shap_values(reference_point))\n",
    "\n",
    "df = to_dataframe([ideal, previous_solution, new_solution, reference_point, nadir], indices=[\"Ideal\", \"Previous solution\", \"New solution\", \"Reference point\", \"Nadir\"])\n",
    "display(HTML(df.to_html()))"
   ]
  },
  {
   "cell_type": "code",
   "execution_count": null,
   "id": "5d301936-01a9-4e0e-9232-ac123f11d8cf",
   "metadata": {},
   "outputs": [],
   "source": []
  }
 ],
 "metadata": {
  "kernelspec": {
   "display_name": "SHAP",
   "language": "python",
   "name": "shap"
  },
  "language_info": {
   "codemirror_mode": {
    "name": "ipython",
    "version": 3
   },
   "file_extension": ".py",
   "mimetype": "text/x-python",
   "name": "python",
   "nbconvert_exporter": "python",
   "pygments_lexer": "ipython3",
   "version": "3.8.12"
  }
 },
 "nbformat": 4,
 "nbformat_minor": 5
}
