{
 "cells": [
  {
   "cell_type": "markdown",
   "id": "49301f42-a5d3-4ab7-bce4-eeceb384ee78",
   "metadata": {},
   "source": [
    "# River pollution problem (all objectives minimized)"
   ]
  },
  {
   "cell_type": "code",
   "execution_count": 1,
   "id": "dfde4234-624b-4746-8653-f952a708d0b4",
   "metadata": {},
   "outputs": [
    {
     "name": "stderr",
     "output_type": "stream",
     "text": [
      "c:\\Users\\Giomara\\Documents\\Projects\\Tradeoff_Analysis\\vshap\\lib\\site-packages\\tqdm\\auto.py:21: TqdmWarning: IProgress not found. Please update jupyter and ipywidgets. See https://ipywidgets.readthedocs.io/en/stable/user_install.html\n",
      "  from .autonotebook import tqdm as notebook_tqdm\n",
      "C:\\Users\\Giomara\\AppData\\Local\\Temp\\ipykernel_2532\\3418348890.py:11: DeprecationWarning: Importing display from IPython.core.display is deprecated since IPython 7.14, please import from IPython display\n",
      "  from IPython.core.display import display, HTML\n",
      "Using 200 background data samples could cause slower run times. Consider using shap.sample(data, K) or shap.kmeans(data, K) to summarize the background as K samples.\n"
     ]
    },
    {
     "name": "stdout",
     "output_type": "stream",
     "text": [
      "Ideal: [-6.34000000e+00 -3.44487179e+00 -7.50000000e+00  0.00000000e+00\n",
      "  1.71409445e-03]\n",
      "Nadir: [-4.751      -2.85595261 -0.32111111  9.70666667  0.35      ]\n",
      "[1.589      0.58891919 7.17888889 9.70666667 0.34828591]\n"
     ]
    }
   ],
   "source": [
    "import numpy as np\n",
    "import pandas as pd\n",
    "import shap\n",
    "import matplotlib.pyplot as plt\n",
    "\n",
    "from desdeo_problem.problem import DiscreteDataProblem\n",
    "from desdeo_tools.scalarization import SimpleASF, DiscreteScalarizer, StomASF, PointMethodASF\n",
    "from desdeo_tools.solver import DiscreteMinimizer\n",
    "from shapley_values.explanations import *\n",
    "from shapley_values.utilities import *\n",
    "from IPython.core.display import display, HTML\n",
    "\n",
    "\n",
    "# Load and setup problem\n",
    "df = pd.read_csv(\"../data/river_pollution_10178.csv\")\n",
    "pareto_front = df.to_numpy()\n",
    "\n",
    "ideal = np.min(pareto_front[:, 0:5], axis=0)\n",
    "nadir = np.max(pareto_front[:, 0:5], axis=0)\n",
    "\n",
    "objective_names = [\"f_1\", \"f_2\", \"f_3\", \"f_4\", \"f_5\"]\n",
    "n_objectives = len(objective_names)\n",
    "\n",
    "problem = DiscreteDataProblem(df, [\"x_1\", \"x_2\"], objective_names, nadir, ideal)\n",
    "\n",
    "# asf = SimpleASF(np.array([1,1,1,1,1]))\n",
    "asf = StomASF(ideal)\n",
    "# asf = PointMethodASF(nadir, ideal)\n",
    "\n",
    "missing_data = shap.sample(pareto_front[:, 0:n_objectives], nsamples=200)\n",
    "\n",
    "# need to know reference point before generating missing data\n",
    "bb = generate_black_box(problem, asf)\n",
    "explainer = shap.KernelExplainer(bb, missing_data)\n",
    "\n",
    "normalizer = Normalizer(ideal, nadir)\n",
    "\n",
    "def plot(result, objective_names=objective_names, ymin=0, ymax=1):\n",
    "    fig = plt.figure()\n",
    "    ax = fig.add_axes([0,0,1,1])\n",
    "    ax.set_ylim(ymin, ymax)\n",
    "    ax.bar(objective_names, np.squeeze(result)) \n",
    "    plt.grid()\n",
    "    plt.show()\n",
    "\n",
    "print(f\"Ideal: {ideal}\")\n",
    "print(f\"Nadir: {nadir}\")\n",
    "print(np.abs(nadir - ideal))"
   ]
  },
  {
   "cell_type": "markdown",
   "id": "82160437-81a8-4b36-942e-bc3328a98e8f",
   "metadata": {},
   "source": [
    "## 1st iteration"
   ]
  },
  {
   "cell_type": "code",
   "execution_count": 15,
   "id": "9378ed21-cfcc-46d8-a4af-0a7e2c337467",
   "metadata": {},
   "outputs": [
    {
     "name": "stdout",
     "output_type": "stream",
     "text": [
      "Reference point: [-4.751      -2.85595261 -0.32111111  9.70666667  0.35      ]\n",
      "Result: [[-5.99961942 -3.10799147 -6.27755692  1.66335202  0.20091479]]\n",
      "[\n",
      "[0.08232780797566096, 0.019520080927165628, -0.7606810780763054, -0.36856838513740653, -0.029194050578624377],\n",
      "[0.10336844293920648, 0.10279253251017428, -1.0070466704760204, -1.7995318886367055, -0.047990225112473216],\n",
      "[-0.34946214645018153, 0.007054147576319551, 0.9990153173486036, -0.33996460044277427, -0.003171241562519754],\n",
      "[0.034356288886672415, -0.03510515324007928, -0.34902695771141046, 0.3695948313466284, -0.009525827062155493],\n",
      "[-0.06382402295776021, -0.019548945216339653, 0.349998163770189, 0.17726304449356967, 0.02568554563106086],\n",
      "]\n"
     ]
    }
   ],
   "source": [
    "ref_point = np.array([-4.751,-2.85595261,-0.32111111,9.70666667,0.35])\n",
    "\n",
    "result = bb(np.atleast_2d(ref_point))\n",
    "shap_values = np.array(explainer.shap_values(ref_point))\n",
    "\n",
    "print(f\"Reference point: {ref_point}\")\n",
    "print(f\"Result: {result}\")\n",
    "#plot(result, ymin=np.min(ideal))\n",
    "\n",
    "def print_matrix(matrix):\n",
    "    print(\"[\")\n",
    "    for row in matrix:\n",
    "        print(f\"[{', '.join(map(str, row))}],\")\n",
    "    print(\"]\")\n",
    "print_matrix(shap_values)"
   ]
  },
  {
   "cell_type": "markdown",
   "id": "debcc9d0-138c-48cb-bf9e-ad70e5461c13",
   "metadata": {},
   "source": [
    "## Selecting the objective to be improved #1"
   ]
  },
  {
   "cell_type": "code",
   "execution_count": 16,
   "id": "537c1189-c117-4615-9949-fd8ee15d8145",
   "metadata": {},
   "outputs": [
    {
     "name": "stdout",
     "output_type": "stream",
     "text": [
      "['Explanation: Each objective value in the solution had a bettern value when compared to the reference point. The reference point was pessimistic. The component Objective 2 in the refence point had the least improving effect on the objective Objective 1 in the solution.\\nSuggestion: Try improving the component Objective 1 and impairing the component Objective 2.', 'Explanation: Each objective value in the solution had a bettern value when compared to the reference point. The reference point was pessimistic. The component Objective 1 in the refence point had the least improving effect on the objective Objective 2 in the solution.\\nSuggestion: Try improving the component Objective 2 and impairing the component Objective 1.', 'Explanation: Each objective value in the solution had a better value when compared to the reference point.The reference point was pessimistic. The component Objective 3 in the reference point had the least improving effect on objective Objective 3 in the solution. The component Objective 2 had the second least improving effect on the objective Objective 3.\\nSuggestion: Try improving the component Objective 3 and impairing the component Objective 2.', 'Explanation: Each objective value in the solution had a better value when compared to the reference point.The reference point was pessimistic. The component Objective 4 in the reference point had the least improving effect on objective Objective 4 in the solution. The component Objective 1 had the second least improving effect on the objective Objective 4.\\nSuggestion: Try improving the component Objective 4 and impairing the component Objective 1.', 'Explanation: Each objective value in the solution had a bettern value when compared to the reference point. The reference point was pessimistic. The component Objective 3 in the refence point had the least improving effect on the objective Objective 5 in the solution.\\nSuggestion: Try improving the component Objective 5 and impairing the component Objective 3.']\n"
     ]
    }
   ],
   "source": [
    "to_improve = 0\n",
    "suggestion_str, _, _, _ = how_to_improve_objective_i(shap_values, to_improve, ref_point, result)\n",
    "\n",
    "def print_all_explanations(shap_values, ref_point, result):\n",
    "    suggestions = []\n",
    "    for i in range(0,5):\n",
    "        suggestion_str, _, _, _ = how_to_improve_objective_i(shap_values, i, ref_point, result)\n",
    "        suggestions.append(suggestion_str)\n",
    "    return suggestions\n",
    "\n",
    "print(print_all_explanations(shap_values, ref_point, result))"
   ]
  },
  {
   "cell_type": "markdown",
   "id": "211aa281-2928-42d5-bd2e-990055de25a7",
   "metadata": {},
   "source": [
    "## 2nd iteration"
   ]
  },
  {
   "cell_type": "code",
   "execution_count": 18,
   "id": "acb9f63b-08f6-427c-9674-0233e3608578",
   "metadata": {},
   "outputs": [
    {
     "name": "stdout",
     "output_type": "stream",
     "text": [
      "Reference point: [-6.  -3.2 -6.   0.1  0.1]\n",
      "Result: [[-6.00345962 -2.91928927 -6.26229508  0.21316082  0.20174433]]\n",
      "[\n",
      "[0.004280237176539252, 0.007413895737360971, -0.483937992334114, -0.10188277289418518, -0.017141842065165388],\n",
      "[0.0246457504475303, 0.03662135153711577, -0.7283604491506108, -0.6702866047828461, -0.014716242748077911],\n",
      "[-0.2070728223028497, -0.002142501614164864, 0.21669451803035128, -0.05452464752482899, 0.0024593705263770767],\n",
      "[-0.09111362491129119, 0.17206395179244688, 0.8286678891717021, -1.8660718850579148, 0.020434617057692808],\n",
      "[0.0721866328121003, 0.04945816128211339, -0.5855433498248166, -0.7186322874337727, -0.054402162828639064],\n",
      "]\n"
     ]
    }
   ],
   "source": [
    "ref_point = np.array([-6, -3.2, -6.0, 0.1, 0.1])\n",
    "\n",
    "result = bb(np.atleast_2d(ref_point))\n",
    "shap_values = np.array(explainer.shap_values(ref_point))\n",
    "\n",
    "\n",
    "\n",
    "print(f\"Reference point: {ref_point}\")\n",
    "print(f\"Result: {result}\")\n",
    "print_matrix(shap_values)"
   ]
  },
  {
   "cell_type": "markdown",
   "id": "e92e413b-6e86-4047-9f75-3c3fab965f4a",
   "metadata": {},
   "source": [
    "## Selecting the objective to be improved #2"
   ]
  },
  {
   "cell_type": "code",
   "execution_count": 19,
   "id": "d100cfff-c2cc-4958-b14a-01c6863c1208",
   "metadata": {},
   "outputs": [
    {
     "name": "stdout",
     "output_type": "stream",
     "text": [
      "['Explanation: The objective Objective 1 was most improved in the solution by the component Objective 3 and most impaired by the component Objective 2 in the reference point.\\nSuggestion: Try improving the component Objective 1 and impairing the component Objective 2.', 'Explanation: The objective Objective 2 was most impaired in the solution by its component in the reference point. The component Objective 1 had the second most impairing effect on the objective Objective 2.\\nSuggestion: Try improving the component Objective 2 and impairing the component Objective 1.', 'Explanation: The objective Objective 3 was most impaired in the solution by its component in the reference point. The component Objective 5 had the second most impairing effect on the objective Objective 3.\\nSuggestion: Try improving the component Objective 3 and impairing the component Objective 5.', 'Explanation: The objective Objective 4 was most improved in the solution by its component in the reference point. The component Objective 3 had the most impairing effect of objective Objective 4.\\nSuggestion: Try improving the component Objective 4 and impairing the component Objective 3.', 'Explanation: The objective Objective 5 was most improved in the solution by the component Objective 4 and most impaired by the component Objective 1 in the reference point.\\nSuggestion: Try improving the component Objective 5 and impairing the component Objective 1.']\n"
     ]
    }
   ],
   "source": [
    "# to_improve = 3\n",
    "suggestion_str, _, _, _ = how_to_improve_objective_i(shap_values, to_improve, ref_point, result)\n",
    "\n",
    "print(print_all_explanations(shap_values, ref_point, result))"
   ]
  },
  {
   "cell_type": "markdown",
   "id": "349f5dd2-a8bb-4e3c-aa2c-862f4a062a7f",
   "metadata": {
    "tags": []
   },
   "source": [
    "## 3rd teration"
   ]
  },
  {
   "cell_type": "code",
   "execution_count": 22,
   "id": "8a556312",
   "metadata": {},
   "outputs": [
    {
     "name": "stdout",
     "output_type": "stream",
     "text": [
      "Reference point: [-6.  -3.2 -6.   1.   0.1]\n",
      "Result: [[-5.90002751 -3.05750649 -6.59663711  1.20663092  0.15617952]]\n",
      "[\n",
      "[0.01000648425547853, 0.0045294520552264655, -0.5289871098665174, -0.08632736101265501, -0.021020476026540252],\n",
      "[0.024443385017591825, 0.03020854037937561, -0.391084012490849, -0.7576582888125346, -0.014208353484995712],\n",
      "[-0.1938555864559639, -0.0019406278455032662, 0.11262071484170526, -0.05389655963242717, -0.0060082786506903355],\n",
      "[-0.018503223442102545, 0.03459217477624763, 0.23118523644384936, -0.726184332950595, -0.008826478556888917],\n",
      "[0.08426722191781977, 0.057808101797993755, -0.5105562413833893, -0.7938615588022513, -0.058867478656227955],\n",
      "]\n"
     ]
    }
   ],
   "source": [
    "ref_point = np.array([-6, -3.2, -6.0, 1, 0.1])\n",
    "\n",
    "result = bb(np.atleast_2d(ref_point))\n",
    "shap_values = np.array(explainer.shap_values(ref_point))\n",
    "\n",
    "print(f\"Reference point: {ref_point}\")\n",
    "print(f\"Result: {result}\")\n",
    "print_matrix(shap_values)"
   ]
  },
  {
   "cell_type": "markdown",
   "id": "9405bb1b-6f3a-4f9c-82a9-a6d9e2672c29",
   "metadata": {},
   "source": [
    "## Selecting the objective to be improved #3"
   ]
  },
  {
   "cell_type": "code",
   "execution_count": 24,
   "id": "7f3af450",
   "metadata": {},
   "outputs": [
    {
     "name": "stdout",
     "output_type": "stream",
     "text": [
      "['Explanation: The objective Objective 1 was most improved in the solution by its component in the reference point. The component Objective 2 had the most impairing effect of objective Objective 1.\\nSuggestion: Try improving the component Objective 1 and impairing the component Objective 2.', 'Explanation: The objective Objective 2 was most improved in the solution by its component in the reference point. The component Objective 1 had the most impairing effect of objective Objective 2.\\nSuggestion: Try improving the component Objective 2 and impairing the component Objective 1.', 'Explanation: None of the objectives in the reference point had an impairing effect on objective Objective 3 in the solution. Objective Objective 2 in the reference point had the least improving effect on objective Objective 3 in the solution.\\nSuggestion: Try improving the component Objective 3 and impairing the component Objective 2.', 'Explanation: The objective Objective 4 was most improved in the solution by its component in the reference point. The component Objective 3 had the most impairing effect of objective Objective 4.\\nSuggestion: Try improving the component Objective 4 and impairing the component Objective 3.', 'Explanation: The objective Objective 5 was most improved in the solution by the component Objective 4 and most impaired by the component Objective 1 in the reference point.\\nSuggestion: Try improving the component Objective 5 and impairing the component Objective 1.']\n"
     ]
    }
   ],
   "source": [
    "print(print_all_explanations(shap_values, ref_point, result))"
   ]
  },
  {
   "cell_type": "markdown",
   "id": "386437da-5d38-447e-bc83-1a166631efb4",
   "metadata": {
    "tags": []
   },
   "source": [
    "##  4th iteration"
   ]
  },
  {
   "cell_type": "code",
   "execution_count": 25,
   "id": "5c2ea7f6",
   "metadata": {},
   "outputs": [
    {
     "name": "stdout",
     "output_type": "stream",
     "text": [
      "Reference point: [-6.   -3.2  -5.5   0.8   0.12]\n",
      "Result: [[-5.95206821 -3.06336352 -6.44639728  1.24607038  0.17910494]]\n",
      "[\n",
      "[0.0029064904587753604, 0.003492084257043458, -0.5062318788811963, -0.06792903178744268, -0.018690773514580275],\n",
      "[0.02724277414151736, 0.027714994673892965, -0.5586714937708296, -0.7307785275875508, -0.013596774905201161],\n",
      "[-0.21768072958799214, -0.002238640942598349, 0.2739868664273693, -0.08089484042540025, -4.0484318092023425e-05],\n",
      "[-0.028346964975635585, 0.048877583157491314, 0.3622676731796052, -0.8807778475899458, -0.006404087852124278],\n",
      "[0.07019600798439357, 0.04149458641265302, -0.5079327490667939, -0.6181083900974713, -0.047273524841836626],\n",
      "]\n"
     ]
    }
   ],
   "source": [
    "ref_point = np.array([-6, -3.2, -5.5, 0.8, 0.12])\n",
    "\n",
    "result = bb(np.atleast_2d(ref_point))\n",
    "shap_values = np.array(explainer.shap_values(ref_point))\n",
    "\n",
    "print(f\"Reference point: {ref_point}\")\n",
    "print(f\"Result: {result}\")\n",
    "print_matrix(shap_values)"
   ]
  },
  {
   "cell_type": "markdown",
   "id": "77ac28a0-7bb1-4b56-95f5-68d69a1826e9",
   "metadata": {},
   "source": [
    "## Selecting the objective to be improved #5"
   ]
  },
  {
   "cell_type": "code",
   "execution_count": 26,
   "id": "9371ab6f",
   "metadata": {},
   "outputs": [
    {
     "data": {
      "text/plain": [
       "['Explanation: The objective Objective 1 was most improved in the solution by the component Objective 3 and most impaired by the component Objective 2 in the reference point.\\nSuggestion: Try improving the component Objective 1 and impairing the component Objective 2.',\n",
       " 'Explanation: The objective Objective 2 was most impaired in the solution by its component in the reference point. The component Objective 1 had the second most impairing effect on the objective Objective 2.\\nSuggestion: Try improving the component Objective 2 and impairing the component Objective 1.',\n",
       " 'Explanation: The objective Objective 3 was most impaired in the solution by its component in the reference point. The component Objective 5 had the second most impairing effect on the objective Objective 3.\\nSuggestion: Try improving the component Objective 3 and impairing the component Objective 5.',\n",
       " 'Explanation: The objective Objective 4 was most improved in the solution by its component in the reference point. The component Objective 3 had the most impairing effect of objective Objective 4.\\nSuggestion: Try improving the component Objective 4 and impairing the component Objective 3.',\n",
       " 'Explanation: The objective Objective 5 was most improved in the solution by the component Objective 4 and most impaired by the component Objective 1 in the reference point.\\nSuggestion: Try improving the component Objective 5 and impairing the component Objective 1.']"
      ]
     },
     "execution_count": 26,
     "metadata": {},
     "output_type": "execute_result"
    }
   ],
   "source": [
    "print_all_explanations(shap_values,ref_point,result)"
   ]
  },
  {
   "cell_type": "markdown",
   "id": "8e9f64c9-d4a1-494a-9a3b-6685d407d083",
   "metadata": {
    "tags": []
   },
   "source": [
    "##  5th iteration"
   ]
  },
  {
   "cell_type": "code",
   "execution_count": 27,
   "id": "bbcc45d3",
   "metadata": {},
   "outputs": [
    {
     "name": "stdout",
     "output_type": "stream",
     "text": [
      "Reference point: [-6.   -3.2  -5.5   0.8   0.12]\n",
      "Result: [[-5.95206821 -3.06336352 -6.44639728  1.24607038  0.17910494]]\n",
      "[\n",
      "[0.0029064904587753604, 0.003492084257043458, -0.5062318788811963, -0.06792903178744268, -0.018690773514580275],\n",
      "[0.02724277414151736, 0.027714994673892965, -0.5586714937708296, -0.7307785275875508, -0.013596774905201161],\n",
      "[-0.21768072958799214, -0.002238640942598349, 0.2739868664273693, -0.08089484042540025, -4.0484318092023425e-05],\n",
      "[-0.028346964975635585, 0.048877583157491314, 0.3622676731796052, -0.8807778475899458, -0.006404087852124278],\n",
      "[0.07019600798439357, 0.04149458641265302, -0.5079327490667939, -0.6181083900974713, -0.047273524841836626],\n",
      "]\n"
     ]
    }
   ],
   "source": [
    "ref_point = np.array([-6, -3.2, -5.5, 0.8, 0.12])\n",
    "\n",
    "result = bb(np.atleast_2d(ref_point))\n",
    "shap_values = np.array(explainer.shap_values(ref_point))\n",
    "\n",
    "print(f\"Reference point: {ref_point}\")\n",
    "print(f\"Result: {result}\")\n",
    "print_matrix(shap_values)"
   ]
  },
  {
   "cell_type": "markdown",
   "id": "a0e2c973-78c2-4c56-ae04-efe10db1fe7f",
   "metadata": {},
   "source": [
    "## Selecting the objective to be improved #5"
   ]
  },
  {
   "cell_type": "code",
   "execution_count": 28,
   "id": "86811180",
   "metadata": {},
   "outputs": [
    {
     "data": {
      "text/plain": [
       "['Explanation: The objective Objective 1 was most improved in the solution by the component Objective 3 and most impaired by the component Objective 2 in the reference point.\\nSuggestion: Try improving the component Objective 1 and impairing the component Objective 2.',\n",
       " 'Explanation: The objective Objective 2 was most impaired in the solution by its component in the reference point. The component Objective 1 had the second most impairing effect on the objective Objective 2.\\nSuggestion: Try improving the component Objective 2 and impairing the component Objective 1.',\n",
       " 'Explanation: The objective Objective 3 was most impaired in the solution by its component in the reference point. The component Objective 5 had the second most impairing effect on the objective Objective 3.\\nSuggestion: Try improving the component Objective 3 and impairing the component Objective 5.',\n",
       " 'Explanation: The objective Objective 4 was most improved in the solution by its component in the reference point. The component Objective 3 had the most impairing effect of objective Objective 4.\\nSuggestion: Try improving the component Objective 4 and impairing the component Objective 3.',\n",
       " 'Explanation: The objective Objective 5 was most improved in the solution by the component Objective 4 and most impaired by the component Objective 1 in the reference point.\\nSuggestion: Try improving the component Objective 5 and impairing the component Objective 1.']"
      ]
     },
     "execution_count": 28,
     "metadata": {},
     "output_type": "execute_result"
    }
   ],
   "source": [
    "\n",
    "print_all_explanations(shap_values, ref_point, result)\n",
    "\n"
   ]
  },
  {
   "cell_type": "markdown",
   "id": "cf632d40-60ba-4817-8481-e8f1c95a6839",
   "metadata": {
    "tags": []
   },
   "source": [
    "##  6th iteration"
   ]
  },
  {
   "cell_type": "code",
   "execution_count": 29,
   "id": "6f09afdf",
   "metadata": {},
   "outputs": [
    {
     "name": "stdout",
     "output_type": "stream",
     "text": [
      "Reference point: [-6.   -3.2  -5.5   0.8   0.12]\n",
      "Result: [[-5.95206821 -3.06336352 -6.44639728  1.24607038  0.17910494]]\n",
      "[\n",
      "[0.0029064904587753604, 0.003492084257043458, -0.5062318788811963, -0.06792903178744268, -0.018690773514580275],\n",
      "[0.02724277414151736, 0.027714994673892965, -0.5586714937708296, -0.7307785275875508, -0.013596774905201161],\n",
      "[-0.21768072958799214, -0.002238640942598349, 0.2739868664273693, -0.08089484042540025, -4.0484318092023425e-05],\n",
      "[-0.028346964975635585, 0.048877583157491314, 0.3622676731796052, -0.8807778475899458, -0.006404087852124278],\n",
      "[0.07019600798439357, 0.04149458641265302, -0.5079327490667939, -0.6181083900974713, -0.047273524841836626],\n",
      "]\n"
     ]
    },
    {
     "data": {
      "text/plain": [
       "['Explanation: The objective Objective 1 was most improved in the solution by the component Objective 3 and most impaired by the component Objective 2 in the reference point.\\nSuggestion: Try improving the component Objective 1 and impairing the component Objective 2.',\n",
       " 'Explanation: The objective Objective 2 was most impaired in the solution by its component in the reference point. The component Objective 1 had the second most impairing effect on the objective Objective 2.\\nSuggestion: Try improving the component Objective 2 and impairing the component Objective 1.',\n",
       " 'Explanation: The objective Objective 3 was most impaired in the solution by its component in the reference point. The component Objective 5 had the second most impairing effect on the objective Objective 3.\\nSuggestion: Try improving the component Objective 3 and impairing the component Objective 5.',\n",
       " 'Explanation: The objective Objective 4 was most improved in the solution by its component in the reference point. The component Objective 3 had the most impairing effect of objective Objective 4.\\nSuggestion: Try improving the component Objective 4 and impairing the component Objective 3.',\n",
       " 'Explanation: The objective Objective 5 was most improved in the solution by the component Objective 4 and most impaired by the component Objective 1 in the reference point.\\nSuggestion: Try improving the component Objective 5 and impairing the component Objective 1.']"
      ]
     },
     "execution_count": 29,
     "metadata": {},
     "output_type": "execute_result"
    }
   ],
   "source": [
    "ref_point = np.array([-6, -3.2, -5.5, 0.8, 0.12])\n",
    "\n",
    "result = bb(np.atleast_2d(ref_point))\n",
    "shap_values = np.array(explainer.shap_values(ref_point))\n",
    "\n",
    "print(f\"Reference point: {ref_point}\")\n",
    "print(f\"Result: {result}\")\n",
    "print_matrix(shap_values)\n",
    "print_all_explanations(shap_values,ref_point,result)"
   ]
  },
  {
   "cell_type": "code",
   "execution_count": null,
   "id": "b4d47fbb-12e6-417b-8124-d1adcf51c35b",
   "metadata": {},
   "outputs": [],
   "source": []
  }
 ],
 "metadata": {
  "kernelspec": {
   "display_name": "vshap",
   "language": "python",
   "name": "python3"
  },
  "language_info": {
   "codemirror_mode": {
    "name": "ipython",
    "version": 3
   },
   "file_extension": ".py",
   "mimetype": "text/x-python",
   "name": "python",
   "nbconvert_exporter": "python",
   "pygments_lexer": "ipython3",
   "version": "3.10.11"
  }
 },
 "nbformat": 4,
 "nbformat_minor": 5
}
